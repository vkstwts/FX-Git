{
 "cells": [
  {
   "cell_type": "markdown",
   "metadata": {},
   "source": [
    "Mt4r_07_monte_quantmod\n",
    "==================================================================================================================================\n",
    "## Motivational Buckets\n",
    "### 1.1) (size: )"
   ]
  },
  {
   "cell_type": "code",
   "execution_count": null,
   "metadata": {},
   "outputs": [],
   "source": [
    "%%R\n",
    "if( Sys.info()[\"sysname\"] == \"Linux\" )\n",
    "  suppressPackageStartupMessages(source(\"~/100 FxOption/103 FxOptionVerBack/080 Fx Git/R-source/PlusReg.R\", echo=FALSE))\n",
    "if( Sys.info()[\"sysname\"] == \"Windows\" )\n",
    "  suppressPackageStartupMessages(source(\"C:/Users/denbrige/100 FxOption/103 FxOptionVerBack/080 Fx Git/R-source/PlusReg.R\", echo=FALSE))\n",
    "suppressPackageStartupMessages(source(paste0(RegRSourceDir(),\"PlusMtrMonte.R\"), echo=FALSE))\n",
    "name.str    <- \"Monte\"\n",
    "ver.str     <- \"0.9.0\"\n",
    "mt4.str     <- \"Go MT4 001/\"\n",
    "exe.dir     <- paste0(RegProgramDir(), mt4.str)\n",
    "exe.str     <- \"metalang.exe\"\n",
    "ea.dir      <- paste0(RegLocalProgramDir(), mt4.str, \"experts/\")\n",
    "ind.dir     <- paste0(RegLocalProgramDir(), mt4.str, \"experts/indicators/\")\n",
    "scr.dir     <- paste0(RegLocalProgramDir(), mt4.str, \"experts/scripts/\")\n",
    "mqh.dir     <- paste0(RegLocalProgramDir(), mt4.str, \"experts/include/\")\n",
    "MtrDeviceWriterStr(mqh.dir)\n",
    "MtrMonteWriterStr(mqh.dir)"
   ]
  },
  {
   "cell_type": "markdown",
   "metadata": {},
   "source": [
    "### 1.1.1) (size: )"
   ]
  },
  {
   "cell_type": "code",
   "execution_count": null,
   "metadata": {},
   "outputs": [],
   "source": [
    "%%R\n",
    "bufNum        <- 1\n",
    "styleChr      <- c('DRAW_NONE')\n",
    "lType         <- c(rep('property', 3))\n",
    "lName         <- c('indicator_buffers','indicator_color1','indicator_separate_window')\n",
    "lVal          <- c(bufNum,'Black','')\n",
    "eType         <- c('int','int','double')\n",
    "eName         <- c('GdvPeriod','GdvLookBack','GdvAlpha')\n",
    "eVal          <- c('20','500','1000.0')\n",
    "mt.list       <- MtrAddRdeviceTop(name.str,ver.str,lType,lName,lVal,eType,eName,eVal)\n",
    "mt.list       <- append( mt.list, MtrAddRdeviceInit(bufNum, Rsource=\"PlusMonte.R\") )\n",
    "mt.list       <- append( mt.list, MtrAddRStart() )\n",
    "mt.list       <- append( mt.list, MtrAddRdeviceDeinit() )\n",
    "mt.list       <- MtrAddInRmonte(mt.list)\n",
    "mt.chr        <- MtrWriterStr(mt.list)\n",
    "names(mt.chr) <- NULL\n",
    "mt.chr"
   ]
  },
  {
   "cell_type": "code",
   "execution_count": null,
   "metadata": {},
   "outputs": [],
   "source": [
    "%%R\n",
    "ea.dir.str  <- MtrEaWriterStr(name.str, mt.list, save.dir=ind.dir, ext.str=\"R.mq4\")\n",
    "cmd.str     <- paste0('\"', exe.dir, exe.str, '\" \"', ea.dir.str, '\"')\n",
    "cmd.str\n",
    "errChr      <- suppressWarnings(system(cmd.str, intern=TRUE, \n",
    "                                       wait=TRUE, show.output.on.console=FALSE))\n",
    "out.list    <- strsplit(errChr, \";\", fixed=TRUE)\n",
    "err.list    <- out.list[which(lapply(out.list, \"[\", c(1))==\"2\")]\n",
    "warn.list   <- out.list[which(lapply(out.list, \"[\", c(1))==\"1\")]\n",
    "length(err.list)\n",
    "head(err.list)\n",
    "length(warn.list)\n",
    "head(warn.list)"
   ]
  }
 ],
 "metadata": {},
 "nbformat": 4,
 "nbformat_minor": 2
}
